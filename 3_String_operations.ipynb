{
 "cells": [
  {
   "cell_type": "markdown",
   "metadata": {},
   "source": [
    "## String operations"
   ]
  },
  {
   "cell_type": "code",
   "execution_count": 2,
   "metadata": {},
   "outputs": [],
   "source": [
    "from __future__ import print_function\n",
    "import numpy as np"
   ]
  },
  {
   "cell_type": "code",
   "execution_count": 63,
   "metadata": {},
   "outputs": [
    {
     "data": {
      "text/plain": "'1.17.4'"
     },
     "execution_count": 63,
     "metadata": {},
     "output_type": "execute_result"
    }
   ],
   "source": [
    "np.__version__"
   ]
  },
  {
   "cell_type": "markdown",
   "metadata": {},
   "source": [
    "Q1. Concatenate x1 and x2."
   ]
  },
  {
   "cell_type": "code",
   "execution_count": 64,
   "metadata": {},
   "outputs": [
    {
     "name": "stdout",
     "output_type": "stream",
     "text": "['Hello world' 'Say something']\n"
    }
   ],
   "source": [
    "x1 = np.array(['Hello', 'Say'], dtype=np.str)\n",
    "x2 = np.array([' world', ' something'], dtype=np.str)\n",
    "print(np.char.add(x1,x2))"
   ]
  },
  {
   "cell_type": "markdown",
   "metadata": {},
   "source": [
    "Q2. Repeat x three time element-wise."
   ]
  },
  {
   "cell_type": "code",
   "execution_count": 65,
   "metadata": {},
   "outputs": [
    {
     "name": "stdout",
     "output_type": "stream",
     "text": "['Hello Hello Hello ' 'Say Say Say ']\n"
    }
   ],
   "source": [
    "x = np.array(['Hello ', 'Say '], dtype=np.str)\n",
    "print(np.char.multiply(x,3))"
   ]
  },
  {
   "cell_type": "markdown",
   "metadata": {},
   "source": [
    "Q3-1. Capitalize the first letter of x element-wise.<br/>\n",
    "Q3-2. Lowercase x element-wise.<br/>\n",
    "Q3-3. Uppercase x element-wise.<br/>\n",
    "Q3-4. Swapcase x element-wise.<br/>\n",
    "Q3-5. Title-case x element-wise.<br/>"
   ]
  },
  {
   "cell_type": "code",
   "execution_count": 66,
   "metadata": {},
   "outputs": [
    {
     "name": "stdout",
     "output_type": "stream",
     "text": "capitalized = ['Hello world' 'Say something']\nlowered = ['hello world' 'say something']\nuppered = ['HELLO WORLD' 'SAY SOMETHING']\nswapcased = ['HEllO WOrlD' 'sAY SoMETHING']\ntitlecased = ['Hello World' 'Say Something']\n"
    }
   ],
   "source": [
    "x = np.array(['heLLo woRLd', 'Say sOmething'], dtype=np.str)\n",
    "capitalized = np.char.capitalize(x)\n",
    "lowered = np.char.lower(x)\n",
    "uppered = np.char.upper(x)\n",
    "swapcased = np.char.swapcase(x)\n",
    "titlecased = np.char.title(x)\n",
    "print(\"capitalized =\", capitalized)\n",
    "print(\"lowered =\", lowered)\n",
    "print(\"uppered =\", uppered)\n",
    "print(\"swapcased =\", swapcased)\n",
    "print(\"titlecased =\", titlecased)"
   ]
  },
  {
   "cell_type": "markdown",
   "metadata": {},
   "source": [
    "Q4. Make the length of each element 20 and the string centered / left-justified / right-justified with paddings of `_`."
   ]
  },
  {
   "cell_type": "code",
   "execution_count": 67,
   "metadata": {},
   "outputs": [
    {
     "name": "stdout",
     "output_type": "stream",
     "text": "centered = ['____hello world_____' '___say something____']\nleft = ['hello world_________' 'say something_______']\nright = ['_________hello world' '_______say something']\n"
    }
   ],
   "source": [
    "x = np.array(['hello world', 'say something'], dtype=np.str)\n",
    "centered = np.char.center(x,20,fillchar='_')\n",
    "left = np.char.ljust(x,20,fillchar='_')\n",
    "right = np.char.rjust(x,20,fillchar='_')\n",
    "\n",
    "print(\"centered =\", centered)\n",
    "print(\"left =\", left)\n",
    "print(\"right =\", right)"
   ]
  },
  {
   "cell_type": "markdown",
   "metadata": {},
   "source": [
    "Q5. Encode x in cp500 and decode it again."
   ]
  },
  {
   "cell_type": "code",
   "execution_count": 49,
   "metadata": {},
   "outputs": [
    {
     "name": "stdout",
     "output_type": "stream",
     "text": "encoded = [b'\\x88\\x85\\x93\\x93\\x96@\\xa6\\x96\\x99\\x93\\x84'\n b'\\xa2\\x81\\xa8@\\xa2\\x96\\x94\\x85\\xa3\\x88\\x89\\x95\\x87']\ndecoded = ['hello world' 'say something']\n"
    }
   ],
   "source": [
    "x = np.array(['hello world', 'say something'],dtype=np.str)\n",
    "encoded = np.char.encode(x, 'cp500')\n",
    "decoded = np.char.decode(encoded, 'cp500')\n",
    "#x can't be decoded because it has been decoded\n",
    "print(\"encoded =\", encoded)\n",
    "print(\"decoded =\", decoded)"
   ]
  },
  {
   "cell_type": "markdown",
   "metadata": {},
   "source": [
    "Q6. Insert a space between characters of x."
   ]
  },
  {
   "cell_type": "code",
   "execution_count": 25,
   "metadata": {},
   "outputs": [
    {
     "data": {
      "text/plain": "array(['h e l l o   w o r l d', 's a y   s o m e t h i n g'], dtype='<U25')"
     },
     "execution_count": 25,
     "metadata": {},
     "output_type": "execute_result"
    }
   ],
   "source": [
    "x = np.array(['hello world', 'say something'], dtype=np.str)\n",
    "np.char.join(\" \", x)"
   ]
  },
  {
   "cell_type": "markdown",
   "metadata": {},
   "source": [
    "Q7-1. Remove the leading and trailing whitespaces of x element-wise.<br/>\n",
    "Q7-2. Remove the leading whitespaces of x element-wise.<br/>\n",
    "Q7-3. Remove the trailing whitespaces of x element-wise."
   ]
  },
  {
   "cell_type": "code",
   "execution_count": 26,
   "metadata": {},
   "outputs": [
    {
     "name": "stdout",
     "output_type": "stream",
     "text": "stripped = ['hello world' 'say something']\nlstripped = ['hello world   ' 'say something\\n']\nrstripped = ['   hello world' '\\tsay something']\n"
    }
   ],
   "source": [
    "x = np.array(['   hello world   ', '\\tsay something\\n'], dtype=np.str)\n",
    "stripped = np.char.strip(x)\n",
    "lstripped = np.char.lstrip(x)\n",
    "rstripped = np.char.rstrip(x)\n",
    "print(\"stripped =\", stripped)\n",
    "print(\"lstripped =\", lstripped)\n",
    "print(\"rstripped =\", rstripped)"
   ]
  },
  {
   "cell_type": "markdown",
   "metadata": {},
   "source": [
    "Q8. Split the element of x with spaces."
   ]
  },
  {
   "cell_type": "code",
   "execution_count": 37,
   "metadata": {},
   "outputs": [
    {
     "data": {
      "text/plain": "array([['Hello', 'my', 'name', 'is', 'John']], dtype='<U5')"
     },
     "execution_count": 37,
     "metadata": {},
     "output_type": "execute_result"
    }
   ],
   "source": [
    "x = np.array(['Hello my name is John'], dtype=np.str)\n",
    "np.array(np.char.split(x,\" \").tolist(), dtype=np.str)\n",
    "np.array(np.char.rsplit(x, \" \").tolist(),dtype=np.str)\n",
    "#just the defferent of order\n",
    "#该函数会改变原列表dtype->object"
   ]
  },
  {
   "cell_type": "markdown",
   "metadata": {},
   "source": [
    "Q9. Split the element of x to multiple lines."
   ]
  },
  {
   "cell_type": "code",
   "execution_count": 40,
   "metadata": {},
   "outputs": [
    {
     "name": "stdout",
     "output_type": "stream",
     "text": "[list(['Hello', 'my name is John'])]\n"
    }
   ],
   "source": [
    "x = np.array(['Hello\\nmy name is John'], dtype=np.str)\n",
    "print(np.char.splitlines(x))\n",
    "#as same it will change the dtype of x\n",
    "#懒得转换了"
   ]
  },
  {
   "cell_type": "markdown",
   "metadata": {},
   "source": [
    "Q10. Make x a numeric string of 4 digits with zeros on its left."
   ]
  },
  {
   "cell_type": "code",
   "execution_count": 42,
   "metadata": {},
   "outputs": [
    {
     "data": {
      "text/plain": "array(['0034'], dtype='<U4')"
     },
     "execution_count": 42,
     "metadata": {},
     "output_type": "execute_result"
    }
   ],
   "source": [
    "x = np.array(['34'], dtype=np.str)\n",
    "np.char.zfill(x,4)"
   ]
  },
  {
   "cell_type": "markdown",
   "metadata": {},
   "source": [
    "Q11. Replace \"John\" with \"Jim\" in x."
   ]
  },
  {
   "cell_type": "code",
   "execution_count": 43,
   "metadata": {},
   "outputs": [
    {
     "data": {
      "text/plain": "array(['Hello nmy name is John'], dtype='<U22')"
     },
     "execution_count": 43,
     "metadata": {},
     "output_type": "execute_result"
    }
   ],
   "source": [
    "x = np.array(['Hello nmy name is John'], dtype=np.str)\n",
    "np.char.replace(x, \"Johm\", \"jim\")"
   ]
  },
  {
   "cell_type": "markdown",
   "metadata": {},
   "source": [
    "## Comparison"
   ]
  },
  {
   "cell_type": "markdown",
   "metadata": {},
   "source": [
    "Q12. Return x1 == x2, element-wise."
   ]
  },
  {
   "cell_type": "code",
   "execution_count": 44,
   "metadata": {},
   "outputs": [
    {
     "data": {
      "text/plain": "array([ True,  True,  True,  True, False])"
     },
     "execution_count": 44,
     "metadata": {},
     "output_type": "execute_result"
    }
   ],
   "source": [
    "x1 = np.array(['Hello', 'my', 'name', 'is', 'John'], dtype=np.str)\n",
    "x2 = np.array(['Hello', 'my', 'name', 'is', 'Jim'], dtype=np.str)\n",
    "np.char.equal(x1,x2)"
   ]
  },
  {
   "cell_type": "markdown",
   "metadata": {},
   "source": [
    "Q13. Return x1 != x2, element-wise."
   ]
  },
  {
   "cell_type": "code",
   "execution_count": 45,
   "metadata": {},
   "outputs": [
    {
     "data": {
      "text/plain": "array([False, False, False, False,  True])"
     },
     "execution_count": 45,
     "metadata": {},
     "output_type": "execute_result"
    }
   ],
   "source": [
    "x1 = np.array(['Hello', 'my', 'name', 'is', 'John'], dtype=np.str)\n",
    "x2 = np.array(['Hello', 'my', 'name', 'is', 'Jim'], dtype=np.str)\n",
    "np.char.not_equal(x1,x2)"
   ]
  },
  {
   "cell_type": "markdown",
   "metadata": {},
   "source": [
    "## String information"
   ]
  },
  {
   "cell_type": "markdown",
   "metadata": {},
   "source": [
    "Q14. Count the number of \"l\" in x, element-wise."
   ]
  },
  {
   "cell_type": "code",
   "execution_count": 51,
   "metadata": {},
   "outputs": [
    {
     "data": {
      "text/plain": "array([2, 0, 0, 0, 1])"
     },
     "execution_count": 51,
     "metadata": {},
     "output_type": "execute_result"
    }
   ],
   "source": [
    "x = np.array(['Hello', 'my', 'name', 'is', 'Lily'], dtype=np.str)\n",
    "np.char.count(x, 'l')"
   ]
  },
  {
   "cell_type": "markdown",
   "metadata": {},
   "source": [
    "Q15. Count the lowest index of \"l\" in x, element-wise."
   ]
  },
  {
   "cell_type": "code",
   "execution_count": 55,
   "metadata": {},
   "outputs": [
    {
     "data": {
      "text/plain": "array([ 2, -1, -1, -1,  2])"
     },
     "execution_count": 55,
     "metadata": {},
     "output_type": "execute_result"
    }
   ],
   "source": [
    "x = np.array(['Hello', 'my', 'name', 'is', 'Lily'], dtype=np.str)\n",
    "np.char.find(x, 'l')\n",
    "#np.char.index(x, 'l') 与find功能相似，但没有子串会报错"
   ]
  },
  {
   "cell_type": "markdown",
   "metadata": {},
   "source": [
    "Q16-1. Check if each element of x is composed of digits only.<br/>\n",
    "Q16-2. Check if each element of x is composed of lower case letters only.<br/>\n",
    "Q16-3. Check if each element of x is composed of upper case letters only."
   ]
  },
  {
   "cell_type": "code",
   "execution_count": 56,
   "metadata": {},
   "outputs": [
    {
     "name": "stdout",
     "output_type": "stream",
     "text": "Digits only = [False False False  True False False]\nLower cases only = [False False  True False  True  True]\nUpper cases only = [False  True False False False False]\n"
    }
   ],
   "source": [
    "x = np.array(['Hello', 'I', 'am', '20', 'years', 'old'], dtype=np.str)\n",
    "out1 = np.char.isdigit(x)\n",
    "out2 = np.char.islower(x)\n",
    "out3 = np.char.isupper(x)\n",
    "print(\"Digits only =\", out1)\n",
    "print(\"Lower cases only =\", out2)\n",
    "print(\"Upper cases only =\", out3)"
   ]
  },
  {
   "cell_type": "markdown",
   "metadata": {},
   "source": [
    "Q17. Check if each element of x starts with \"hi\"."
   ]
  },
  {
   "cell_type": "code",
   "execution_count": 57,
   "metadata": {},
   "outputs": [
    {
     "data": {
      "text/plain": "array([False,  True,  True,  True])"
     },
     "execution_count": 57,
     "metadata": {},
     "output_type": "execute_result"
    }
   ],
   "source": [
    "x = np.array(['he', 'his', 'him', 'his'], dtype=np.str)\n",
    "np.char.startswith(x,\"hi\")"
   ]
  },
  {
   "cell_type": "code",
   "execution_count": null,
   "metadata": {
    "collapsed": true
   },
   "outputs": [],
   "source": []
  }
 ],
 "metadata": {
  "anaconda-cloud": {},
  "kernelspec": {
   "display_name": "Python 3.8.1 64-bit",
   "language": "python",
   "name": "python38164bitfa6b8ec3cbf34f8b9108e24cdf5c1479"
  },
  "language_info": {
   "codemirror_mode": {
    "name": "ipython",
    "version": 3
   },
   "file_extension": ".py",
   "mimetype": "text/x-python",
   "name": "python",
   "nbconvert_exporter": "python",
   "pygments_lexer": "ipython3",
   "version": "3.8.1-final"
  }
 },
 "nbformat": 4,
 "nbformat_minor": 1
}