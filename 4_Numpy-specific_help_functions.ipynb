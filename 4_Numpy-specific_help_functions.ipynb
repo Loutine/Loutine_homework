{
 "cells": [
  {
   "cell_type": "code",
   "execution_count": 2,
   "metadata": {},
   "outputs": [],
   "source": [
    "import numpy as np"
   ]
  },
  {
   "cell_type": "code",
   "execution_count": 3,
   "metadata": {},
   "outputs": [
    {
     "data": {
      "text/plain": "'1.17.4'"
     },
     "execution_count": 3,
     "metadata": {},
     "output_type": "execute_result"
    }
   ],
   "source": [
    "np.__version__"
   ]
  },
  {
   "cell_type": "markdown",
   "metadata": {
    "ein.tags": "worksheet-0",
    "slideshow": {
     "slide_type": "-"
    }
   },
   "source": [
    "Q1. Search for docstrings of the numpy functions on linear algebra."
   ]
  },
  {
   "cell_type": "code",
   "execution_count": 4,
   "metadata": {},
   "outputs": [
    {
     "name": "stdout",
     "output_type": "stream",
     "text": "Search results for 'linear algebra'\n-----------------------------------\nnumpy.matrix\n    .. note:: It is no longer recommended to use this class, even for linear\nnumpy.linalg.solve\n    Solve a linear matrix equation, or system of linear scalar equations.\nnumpy.poly\n    Find the coefficients of a polynomial with the given sequence of roots.\nnumpy.einsum\n    einsum(subscripts, *operands, out=None, dtype=None, order='K',\nnumpy.linalg.eig\n    Compute the eigenvalues and right eigenvectors of a square array.\nnumpy.linalg.cond\n    Compute the condition number of a matrix.\nnumpy.linalg.eigh\n    Return the eigenvalues and eigenvectors of a complex Hermitian\nnumpy.linalg.pinv\n    Compute the (Moore-Penrose) pseudo-inverse of a matrix.\nnumpy.linalg.LinAlgError\n    Generic Python-exception-derived object raised by linalg functions.\nnumpy.core._multiarray_umath.c_einsum\n    c_einsum(subscripts, *operands, out=None, dtype=None, order='K',"
    }
   ],
   "source": [
    "np.lookfor('linear algebra')"
   ]
  },
  {
   "cell_type": "markdown",
   "metadata": {
    "ein.tags": "worksheet-0",
    "slideshow": {
     "slide_type": "-"
    }
   },
   "source": [
    "Q2. Get help information for numpy dot function."
   ]
  },
  {
   "cell_type": "code",
   "execution_count": 5,
   "metadata": {},
   "outputs": [
    {
     "name": "stdout",
     "output_type": "stream",
     "text": "dot(*args, **kwargs)\n\ndot(a, b, out=None)\n\nDot product of two arrays. Specifically,\n\n- If both `a` and `b` are 1-D arrays, it is inner product of vectors\n  (without complex conjugation).\n\n- If both `a` and `b` are 2-D arrays, it is matrix multiplication,\n  but using :func:`matmul` or ``a @ b`` is preferred.\n\n- If either `a` or `b` is 0-D (scalar), it is equivalent to :func:`multiply`\n  and using ``numpy.multiply(a, b)`` or ``a * b`` is preferred.\n\n- If `a` is an N-D array and `b` is a 1-D array, it is a sum product over\n  the last axis of `a` and `b`.\n\n- If `a` is an N-D array and `b` is an M-D array (where ``M>=2``), it is a\n  sum product over the last axis of `a` and the second-to-last axis of `b`::\n\n    dot(a, b)[i,j,k,m] = sum(a[i,j,:] * b[k,:,m])\n\nParameters\n----------\na : array_like\n    First argument.\nb : array_like\n    Second argument.\nout : ndarray, optional\n    Output argument. This must have the exact kind that would be returned\n    if it was not used. In particular, it must have the right type, must be\n    C-contiguous, and its dtype must be the dtype that would be returned\n    for `dot(a,b)`. This is a performance feature. Therefore, if these\n    conditions are not met, an exception is raised, instead of attempting\n    to be flexible.\n\nReturns\n-------\noutput : ndarray\n    Returns the dot product of `a` and `b`.  If `a` and `b` are both\n    scalars or both 1-D arrays then a scalar is returned; otherwise\n    an array is returned.\n    If `out` is given, then it is returned.\n\nRaises\n------\nValueError\n    If the last dimension of `a` is not the same size as\n    the second-to-last dimension of `b`.\n\nSee Also\n--------\nvdot : Complex-conjugating dot product.\ntensordot : Sum products over arbitrary axes.\neinsum : Einstein summation convention.\nmatmul : '@' operator as method with out parameter.\n\nExamples\n--------\n>>> np.dot(3, 4)\n12\n\nNeither argument is complex-conjugated:\n\n>>> np.dot([2j, 3j], [2j, 3j])\n(-13+0j)\n\nFor 2-D arrays it is the matrix product:\n\n>>> a = [[1, 0], [0, 1]]\n>>> b = [[4, 1], [2, 2]]\n>>> np.dot(a, b)\narray([[4, 1],\n       [2, 2]])\n\n>>> a = np.arange(3*4*5*6).reshape((3,4,5,6))\n>>> b = np.arange(3*4*5*6)[::-1].reshape((5,4,6,3))\n>>> np.dot(a, b)[2,3,2,1,2,2]\n499128\n>>> sum(a[2,3,2,:] * b[1,2,:,2])\n499128\n"
    }
   ],
   "source": [
    "np.info(np.dot)"
   ]
  },
  {
   "cell_type": "markdown",
   "execution_count": null,
   "metadata": {
    "autoscroll": false,
    "collapsed": false,
    "ein.hycell": false,
    "ein.tags": "worksheet-0",
    "slideshow": {
     "slide_type": "-"
    }
   },
   "outputs": [],
   "source": [
    "# 追加source\n",
    "用于查看源代码(only in python C不可)"
   ]
  },
  {
   "cell_type": "code",
   "execution_count": 8,
   "metadata": {},
   "outputs": [
    {
     "name": "stdout",
     "output_type": "stream",
     "text": "In file: <__array_function__ internals>\n\n@array_function_dispatch(_interp_dispatcher)\ndef interp(x, xp, fp, left=None, right=None, period=None):\n    \"\"\"\n    One-dimensional linear interpolation.\n\n    Returns the one-dimensional piecewise linear interpolant to a function\n    with given discrete data points (`xp`, `fp`), evaluated at `x`.\n\n    Parameters\n    ----------\n    x : array_like\n        The x-coordinates at which to evaluate the interpolated values.\n\n    xp : 1-D sequence of floats\n        The x-coordinates of the data points, must be increasing if argument\n        `period` is not specified. Otherwise, `xp` is internally sorted after\n        normalizing the periodic boundaries with ``xp = xp % period``.\n\n    fp : 1-D sequence of float or complex\n        The y-coordinates of the data points, same length as `xp`.\n\n    left : optional float or complex corresponding to fp\n        Value to return for `x < xp[0]`, default is `fp[0]`.\n\n    right : optional float or complex corresponding to fp\n        Value to return for `x > xp[-1]`, default is `fp[-1]`.\n\n    period : None or float, optional\n        A period for the x-coordinates. This parameter allows the proper\n        interpolation of angular x-coordinates. Parameters `left` and `right`\n        are ignored if `period` is specified.\n\n        .. versionadded:: 1.10.0\n\n    Returns\n    -------\n    y : float or complex (corresponding to fp) or ndarray\n        The interpolated values, same shape as `x`.\n\n    Raises\n    ------\n    ValueError\n        If `xp` and `fp` have different length\n        If `xp` or `fp` are not 1-D sequences\n        If `period == 0`\n\n    Notes\n    -----\n    Does not check that the x-coordinate sequence `xp` is increasing.\n    If `xp` is not increasing, the results are nonsense.\n    A simple check for increasing is::\n\n        np.all(np.diff(xp) > 0)\n\n    Examples\n    --------\n    >>> xp = [1, 2, 3]\n    >>> fp = [3, 2, 0]\n    >>> np.interp(2.5, xp, fp)\n    1.0\n    >>> np.interp([0, 1, 1.5, 2.72, 3.14], xp, fp)\n    array([3.  , 3.  , 2.5 , 0.56, 0.  ])\n    >>> UNDEF = -99.0\n    >>> np.interp(3.14, xp, fp, right=UNDEF)\n    -99.0\n\n    Plot an interpolant to the sine function:\n\n    >>> x = np.linspace(0, 2*np.pi, 10)\n    >>> y = np.sin(x)\n    >>> xvals = np.linspace(0, 2*np.pi, 50)\n    >>> yinterp = np.interp(xvals, x, y)\n    >>> import matplotlib.pyplot as plt\n    >>> plt.plot(x, y, 'o')\n    [<matplotlib.lines.Line2D object at 0x...>]\n    >>> plt.plot(xvals, yinterp, '-x')\n    [<matplotlib.lines.Line2D object at 0x...>]\n    >>> plt.show()\n\n    Interpolation with periodic x-coordinates:\n\n    >>> x = [-180, -170, -185, 185, -10, -5, 0, 365]\n    >>> xp = [190, -190, 350, -350]\n    >>> fp = [5, 10, 3, 4]\n    >>> np.interp(x, xp, fp, period=360)\n    array([7.5 , 5.  , 8.75, 6.25, 3.  , 3.25, 3.5 , 3.75])\n\n    Complex interpolation:\n\n    >>> x = [1.5, 4.0]\n    >>> xp = [2,3,5]\n    >>> fp = [1.0j, 0, 2+3j]\n    >>> np.interp(x, xp, fp)\n    array([0.+1.j , 1.+1.5j])\n\n    \"\"\"\n\n    fp = np.asarray(fp)\n\n    if np.iscomplexobj(fp):\n        interp_func = compiled_interp_complex\n        input_dtype = np.complex128\n    else:\n        interp_func = compiled_interp\n        input_dtype = np.float64\n\n    if period is not None:\n        if period == 0:\n            raise ValueError(\"period must be a non-zero value\")\n        period = abs(period)\n        left = None\n        right = None\n\n        x = np.asarray(x, dtype=np.float64)\n        xp = np.asarray(xp, dtype=np.float64)\n        fp = np.asarray(fp, dtype=input_dtype)\n\n        if xp.ndim != 1 or fp.ndim != 1:\n            raise ValueError(\"Data points must be 1-D sequences\")\n        if xp.shape[0] != fp.shape[0]:\n            raise ValueError(\"fp and xp are not of the same length\")\n        # normalizing periodic boundaries\n        x = x % period\n        xp = xp % period\n        asort_xp = np.argsort(xp)\n        xp = xp[asort_xp]\n        fp = fp[asort_xp]\n        xp = np.concatenate((xp[-1:]-period, xp, xp[0:1]+period))\n        fp = np.concatenate((fp[-1:], fp, fp[0:1]))\n\n    return interp_func(x, xp, fp, left, right)\n\n"
    }
   ],
   "source": [
    "np.source(np.interp)"
   ]
  }
 ],
 "metadata": {
  "kernelspec": {
   "argv": [
    "python",
    "-m",
    "ipykernel_launcher",
    "-f",
    "{connection_file}"
   ],
   "display_name": "Python 3.8.1 64-bit",
   "env": null,
   "interrupt_mode": "signal",
   "language": "python",
   "metadata": null,
   "name": "python38164bitfa6b8ec3cbf34f8b9108e24cdf5c1479"
  },
  "language_info": {
   "codemirror_mode": {
    "name": "ipython",
    "version": 2
   },
   "file_extension": ".py",
   "mimetype": "text/x-python",
   "name": "python",
   "nbconvert_exporter": "python",
   "pygments_lexer": "ipython2",
   "version": "3.8.1-final"
  },
  "name": "4_Numpy-specific_help_functions.ipynb"
 },
 "nbformat": 4,
 "nbformat_minor": 0
}